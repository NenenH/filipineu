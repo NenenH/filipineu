{
 "cells": [
  {
   "cell_type": "code",
   "execution_count": 1,
   "metadata": {},
   "outputs": [
    {
     "name": "stderr",
     "output_type": "stream",
     "text": [
      "WARNING (theano.tensor.blas): Using NumPy C-API based implementation for BLAS functions.\n"
     ]
    }
   ],
   "source": [
    "import pickle\n",
    "import math\n",
    "\n",
    "from nltk import word_tokenize\n",
    "from nltk.translate.bleu_score import modified_precision, closest_ref_length, brevity_penalty, SmoothingFunction, sentence_bleu\n",
    "\n",
    "from collections import Counter\n",
    "\n",
    "from fractions import Fraction\n",
    "\n",
    "from modules.sentence import tokenizer, read, detokenize\n",
    "from modules.model import NMT"
   ]
  },
  {
   "cell_type": "code",
   "execution_count": 2,
   "metadata": {},
   "outputs": [],
   "source": [
    "nbest = 0\n",
    "weights = (0.25, 0.25, 0.25, 0.25)"
   ]
  },
  {
   "cell_type": "code",
   "execution_count": 3,
   "metadata": {},
   "outputs": [],
   "source": [
    "with open('models/fl_en/fl-en.nlm', 'rb') as f:\n",
    "    config = pickle.load(f)\n",
    "    model = NMT('nmt', config)\n",
    "    model.load(f)\n",
    "    f.close()"
   ]
  },
  {
   "cell_type": "code",
   "execution_count": 4,
   "metadata": {},
   "outputs": [],
   "source": [
    "source_tokenizer = tokenizer(config['source_tokenizer'], lowercase=config['source_lowercase'])\n",
    "source_eval = read('models/fl_en/source.data.eval', source_tokenizer, config['backwards'])"
   ]
  },
  {
   "cell_type": "code",
   "execution_count": 5,
   "metadata": {},
   "outputs": [],
   "source": [
    "target_tokenizer = tokenizer('word', lowercase=config['target_lowercase'])\n",
    "references = read('models/fl_en/source.data.eval', target_tokenizer, config['backwards'])"
   ]
  },
  {
   "cell_type": "code",
   "execution_count": 6,
   "metadata": {},
   "outputs": [],
   "source": [
    "output_file = open('models/fl_en/result.data.eval', 'w', encoding='utf-8')\n",
    "\n",
    "hypotheses = []\n",
    "\n",
    "for i, sent in enumerate(model.translate(source_eval, encode=True, nbest=nbest)):\n",
    "    print(sent, file=output_file, flush=True)\n",
    "    hypotheses.append(word_tokenize(sent))\n",
    "    \n",
    "output_file.close()"
   ]
  },
  {
   "cell_type": "code",
   "execution_count": 7,
   "metadata": {},
   "outputs": [
    {
     "name": "stderr",
     "output_type": "stream",
     "text": [
      "/home/redperiabras/Projects/filipineu/venv/lib/python3.6/site-packages/nltk/translate/bleu_score.py:490: UserWarning: \n",
      "Corpus/Sentence contains 0 counts of 2-gram overlaps.\n",
      "BLEU scores might be undesirable; use SmoothingFunction().\n",
      "  warnings.warn(_msg)\n",
      "/home/redperiabras/Projects/filipineu/venv/lib/python3.6/site-packages/nltk/translate/bleu_score.py:490: UserWarning: \n",
      "Corpus/Sentence contains 0 counts of 3-gram overlaps.\n",
      "BLEU scores might be undesirable; use SmoothingFunction().\n",
      "  warnings.warn(_msg)\n"
     ]
    },
    {
     "name": "stdout",
     "output_type": "stream",
     "text": [
      "Counter({1: 7200, 2: 2, 3: 0, 4: 0})\n",
      "Counter({1: 45782, 2: 41384, 3: 37071, 4: 32852})\n"
     ]
    }
   ],
   "source": [
    "evaluation_file = open('models/fl_en/scores.data.eval.csv','w', encoding='utf-8')\n",
    "\n",
    "p_numerators = Counter()\n",
    "p_denominators = Counter()\n",
    "hyp_lengths, ref_lengths = 0, 0\n",
    "\n",
    "for reference, hypothesis in zip(references, hypotheses):\n",
    "    \n",
    "    hyp_len = len(hypothesis)\n",
    "    ref_len = closest_ref_length(references, hyp_len)\n",
    "    \n",
    "    hyp_lengths += hyp_len\n",
    "    ref_lengths += ref_len\n",
    "    \n",
    "    set_data = '%d,%d' % (ref_len, hyp_len)\n",
    "    \n",
    "    for i, _ in enumerate(weights, start=1):\n",
    "        p_i = modified_precision(reference, hypothesis, i)\n",
    "        p_numerators[i] += p_i.numerator\n",
    "        p_denominators[i] += p_i.denominator\n",
    "        set_data += ',%d,%d' % (p_i.numerator, p_i.denominator)\n",
    "        \n",
    "    set_data += ',%f' % sentence_bleu(reference, hypothesis)\n",
    "        \n",
    "evaluation_file.close()"
   ]
  },
  {
   "cell_type": "code",
   "execution_count": 8,
   "metadata": {},
   "outputs": [],
   "source": [
    "bp = brevity_penalty(ref_lengths, hyp_lengths)"
   ]
  },
  {
   "cell_type": "code",
   "execution_count": 9,
   "metadata": {},
   "outputs": [
    {
     "name": "stdout",
     "output_type": "stream",
     "text": [
      "[Fraction(7200, 45782), Fraction(2, 41384), Fraction(0, 37071), Fraction(0, 32852)]\n"
     ]
    }
   ],
   "source": [
    "p_n = [Fraction(p_numerators[i], p_denominators[i], _normalize=False)\n",
    "    for i, _ in enumerate(weights, start=1)]"
   ]
  },
  {
   "cell_type": "code",
   "execution_count": 10,
   "metadata": {},
   "outputs": [
    {
     "name": "stdout",
     "output_type": "stream",
     "text": [
      "0.052505985756835086\n"
     ]
    },
    {
     "name": "stderr",
     "output_type": "stream",
     "text": [
      "/home/redperiabras/Projects/filipineu/venv/lib/python3.6/site-packages/nltk/translate/bleu_score.py:490: UserWarning: \n",
      "Corpus/Sentence contains 0 counts of 3-gram overlaps.\n",
      "BLEU scores might be undesirable; use SmoothingFunction().\n",
      "  warnings.warn(_msg)\n"
     ]
    }
   ],
   "source": [
    "smoothing_function = SmoothingFunction().method0\n",
    "\n",
    "p_n = smoothing_function(p_n, references=references, hypothesis=hypothesis,\n",
    "                             hyp_len=hyp_len, emulate_multibleu=False)\n",
    "\n",
    "s = (w * math.log(p_i) for i, (w, p_i) in enumerate(zip(weights, p_n)))\n",
    "\n",
    "print(math.exp(math.fsum(s)))"
   ]
  },
  {
   "cell_type": "code",
   "execution_count": 12,
   "metadata": {},
   "outputs": [
    {
     "name": "stderr",
     "output_type": "stream",
     "text": [
      "/home/redperiabras/Projects/filipineu/venv/lib/python3.6/site-packages/nltk/translate/bleu_score.py:490: UserWarning: \n",
      "Corpus/Sentence contains 0 counts of 3-gram overlaps.\n",
      "BLEU scores might be undesirable; use SmoothingFunction().\n",
      "  warnings.warn(_msg)\n"
     ]
    },
    {
     "data": {
      "text/plain": [
       "0.052505985756835086"
      ]
     },
     "execution_count": 12,
     "metadata": {},
     "output_type": "execute_result"
    }
   ],
   "source": [
    "from nltk.translate.bleu_score import corpus_bleu\n",
    "\n",
    "corpus_bleu(references, hypotheses)"
   ]
  }
 ],
 "metadata": {
  "kernelspec": {
   "display_name": "Python 3",
   "language": "python",
   "name": "python3"
  },
  "language_info": {
   "codemirror_mode": {
    "name": "ipython",
    "version": 3
   },
   "file_extension": ".py",
   "mimetype": "text/x-python",
   "name": "python",
   "nbconvert_exporter": "python",
   "pygments_lexer": "ipython3",
   "version": "3.6.3"
  }
 },
 "nbformat": 4,
 "nbformat_minor": 2
}
