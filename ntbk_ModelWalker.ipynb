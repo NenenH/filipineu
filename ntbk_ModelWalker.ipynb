{
 "cells": [
  {
   "cell_type": "code",
   "execution_count": 19,
   "metadata": {},
   "outputs": [],
   "source": [
    "import os\n",
    "import pickle\n",
    "from nltk import word_tokenize\n",
    "from modules.model import NMT\n",
    "from modules.sentence import tokenizer, read, detokenize"
   ]
  },
  {
   "cell_type": "code",
   "execution_count": null,
   "metadata": {},
   "outputs": [
    {
     "name": "stdout",
     "output_type": "stream",
     "text": [
      "Loading en-fl-1-61.nlm\n"
     ]
    }
   ],
   "source": [
    "MODEL_FILES = 'models/en_fl'\n",
    "\n",
    "SAVEPOINTS = MODEL_FILES + '/model_savepoints'\n",
    "SRC_EVAL = MODEL_FILES + '/source.data.eval'\n",
    "TRG_EVAL = MODEL_FILES + '/target.data.eval'\n",
    "\n",
    "bleu_results = []\n",
    "model_list = os.listdir(SAVEPOINTS)\n",
    "\n",
    "for nlm in model_list:\n",
    "    print('Loading ' + nlm)\n",
    "    with open(SAVEPOINTS + '/' + nlm, 'rb') as f:\n",
    "        config = pickle.load(f)\n",
    "        model = NMT('fl-en', config)\n",
    "        model.load(f)\n",
    "    f.close()\n",
    "    \n",
    "    print('Reloading source data...')\n",
    "    source_tokenizer = tokenizer(config['source_tokenizer'], \n",
    "        lowercase=config['source_lowercase'])\n",
    "    source = read(SRC_EVAL, source_tokenizer, config['backwards'])\n",
    "    \n",
    "    print('Reloading target data...')\n",
    "    references = read(TRG_EVAL, word_tokenize, False)\n",
    "    \n",
    "    print('Translating...')\n",
    "    hypotheses = []\n",
    "    for i, sent in enumerate(model.translate(source, encode=True, nbest=0)):\n",
    "        hypotheses.append(word_tokenize(sent))\n",
    "        \n",
    "    print('Starting Evaluation')\n",
    "    bleu = corpus_bleu(reference, hypotheses)\n",
    "    bleu_results.append(bleu)\n",
    "    print('{} has BLEU score of {}'.format(nlm, bleu))\n",
    "    \n",
    "print('Best Model identified is' + model_list[bleu_results.index(max(bleu_results))])\n",
    "    \n"
   ]
  }
 ],
 "metadata": {
  "kernelspec": {
   "display_name": "Python 3",
   "language": "python",
   "name": "python3"
  },
  "language_info": {
   "codemirror_mode": {
    "name": "ipython",
    "version": 3
   },
   "file_extension": ".py",
   "mimetype": "text/x-python",
   "name": "python",
   "nbconvert_exporter": "python",
   "pygments_lexer": "ipython3",
   "version": "3.5.2"
  }
 },
 "nbformat": 4,
 "nbformat_minor": 2
}
