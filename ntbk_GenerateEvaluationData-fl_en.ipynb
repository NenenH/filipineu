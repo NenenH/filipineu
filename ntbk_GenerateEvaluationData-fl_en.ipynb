{
 "cells": [
  {
   "cell_type": "code",
   "execution_count": 1,
   "metadata": {},
   "outputs": [
    {
     "name": "stderr",
     "output_type": "stream",
     "text": [
      "WARNING (theano.tensor.blas): Using NumPy C-API based implementation for BLAS functions.\n"
     ]
    }
   ],
   "source": [
    "import pickle\n",
    "import math\n",
    "\n",
    "from nltk import word_tokenize\n",
    "from nltk.translate.bleu_score import modified_precision, closest_ref_length, brevity_penalty, SmoothingFunction, sentence_bleu\n",
    "\n",
    "from collections import Counter\n",
    "\n",
    "from fractions import Fraction\n",
    "\n",
    "from modules.sentence import tokenizer, read, detokenize\n",
    "from modules.model import NMT"
   ]
  },
  {
   "cell_type": "code",
   "execution_count": 2,
   "metadata": {},
   "outputs": [],
   "source": [
    "nbest = 0\n",
    "weights = (0.25, 0.25, 0.25, 0.25)"
   ]
  },
  {
   "cell_type": "code",
   "execution_count": 3,
   "metadata": {},
   "outputs": [],
   "source": [
    "from models import fl_en\n",
    "model = fl_en"
   ]
  },
  {
   "cell_type": "code",
   "execution_count": 14,
   "metadata": {},
   "outputs": [],
   "source": [
    "source_tokenizer = tokenizer(model.config['source_tokenizer'], lowercase=model.config['source_lowercase'])\n",
    "source_eval = read('models/fl_en/source.data.test', source_tokenizer, model.config['backwards'])"
   ]
  },
  {
   "cell_type": "code",
   "execution_count": null,
   "metadata": {},
   "outputs": [],
   "source": [
    "target_tokenizer = tokenizer('word', lowercase=model.config['target_lowercase'])\n",
    "references = read('models/fl_en/source.data.test', target_tokenizer, model.config['backwards'])\n",
    "print(references)"
   ]
  },
  {
   "cell_type": "code",
   "execution_count": null,
   "metadata": {},
   "outputs": [],
   "source": [
    "output_file = open('models/fl_en/result.data.test', 'w', encoding='utf-8')\n",
    "\n",
    "hypotheses = []\n",
    "\n",
    "for i, sent in enumerate(model.translate(source_eval, encode=True, nbest=nbest)):\n",
    "    print(sent, file=output_file, flush=True)\n",
    "    hypotheses.append(word_tokenize(sent))\n",
    "    \n",
    "output_file.close()"
   ]
  },
  {
   "cell_type": "code",
   "execution_count": 1,
   "metadata": {},
   "outputs": [
    {
     "ename": "NameError",
     "evalue": "name 'Counter' is not defined",
     "output_type": "error",
     "traceback": [
      "\u001b[0;31m---------------------------------------------------------------------------\u001b[0m",
      "\u001b[0;31mNameError\u001b[0m                                 Traceback (most recent call last)",
      "\u001b[0;32m<ipython-input-1-eda1c787b2c4>\u001b[0m in \u001b[0;36m<module>\u001b[0;34m()\u001b[0m\n\u001b[1;32m      1\u001b[0m \u001b[0mevaluation_file\u001b[0m \u001b[0;34m=\u001b[0m \u001b[0mopen\u001b[0m\u001b[0;34m(\u001b[0m\u001b[0;34m'models/fl_en/scores.data.eval.csv'\u001b[0m\u001b[0;34m,\u001b[0m\u001b[0;34m'w'\u001b[0m\u001b[0;34m,\u001b[0m \u001b[0mencoding\u001b[0m\u001b[0;34m=\u001b[0m\u001b[0;34m'utf-8'\u001b[0m\u001b[0;34m)\u001b[0m\u001b[0;34m\u001b[0m\u001b[0m\n\u001b[1;32m      2\u001b[0m \u001b[0;34m\u001b[0m\u001b[0m\n\u001b[0;32m----> 3\u001b[0;31m \u001b[0mp_numerators\u001b[0m \u001b[0;34m=\u001b[0m \u001b[0mCounter\u001b[0m\u001b[0;34m(\u001b[0m\u001b[0;34m)\u001b[0m\u001b[0;34m\u001b[0m\u001b[0m\n\u001b[0m\u001b[1;32m      4\u001b[0m \u001b[0mp_denominators\u001b[0m \u001b[0;34m=\u001b[0m \u001b[0mCounter\u001b[0m\u001b[0;34m(\u001b[0m\u001b[0;34m)\u001b[0m\u001b[0;34m\u001b[0m\u001b[0m\n\u001b[1;32m      5\u001b[0m \u001b[0mhyp_lengths\u001b[0m\u001b[0;34m,\u001b[0m \u001b[0mref_lengths\u001b[0m \u001b[0;34m=\u001b[0m \u001b[0;36m0\u001b[0m\u001b[0;34m,\u001b[0m \u001b[0;36m0\u001b[0m\u001b[0;34m\u001b[0m\u001b[0m\n",
      "\u001b[0;31mNameError\u001b[0m: name 'Counter' is not defined"
     ]
    }
   ],
   "source": [
    "evaluation_file = open('models/fl_en/scores.data.eval.csv','w', encoding='utf-8')\n",
    "\n",
    "p_numerators = Counter()\n",
    "p_denominators = Counter()\n",
    "hyp_lengths, ref_lengths = 0, 0\n",
    "\n",
    "for reference, hypothesis in zip(references, hypotheses):\n",
    "    \n",
    "    hyp_len = len(hypothesis)\n",
    "    ref_len = closest_ref_length([reference], hyp_len)\n",
    "    \n",
    "    hyp_lengths += hyp_len\n",
    "    ref_lengths += ref_len\n",
    "    \n",
    "    set_data = '%d,%d' % (ref_len, hyp_len)\n",
    "    \n",
    "    for i, _ in enumerate(weights, start=1):\n",
    "        p_i = modified_precision(reference, hypothesis, i)\n",
    "        p_numerators[i] += p_i.numerator\n",
    "        p_denominators[i] += p_i.denominator\n",
    "        set_data += ',%d,%d' % (p_i.numerator, p_i.denominator)\n",
    "    \n",
    "    set_data += ',%f' % sentence_bleu([reference], hypothesis)\n",
    "    \n",
    "    print(set_data, file=evaluation_file, flush=True)\n",
    "        \n",
    "evaluation_file.close()"
   ]
  },
  {
   "cell_type": "code",
   "execution_count": 51,
   "metadata": {},
   "outputs": [
    {
     "name": "stdout",
     "output_type": "stream",
     "text": [
      "0.920491284044873\n"
     ]
    }
   ],
   "source": [
    "bp = brevity_penalty(ref_lengths, hyp_lengths)\n",
    "print(bp)"
   ]
  },
  {
   "cell_type": "code",
   "execution_count": 52,
   "metadata": {},
   "outputs": [],
   "source": [
    "p_n = [Fraction(p_numerators[i], p_denominators[i], _normalize=False)\n",
    "    for i, _ in enumerate(weights, start=1)]"
   ]
  },
  {
   "cell_type": "code",
   "execution_count": 53,
   "metadata": {},
   "outputs": [
    {
     "name": "stdout",
     "output_type": "stream",
     "text": [
      "0.01839351702653491\n"
     ]
    }
   ],
   "source": [
    "smoothing_function = SmoothingFunction().method0\n",
    "\n",
    "p_n = smoothing_function(p_n, references=references, hypothesis=hypothesis,\n",
    "                             hyp_len=hyp_len, emulate_multibleu=False)\n",
    "\n",
    "s = (w * math.log(p_i) for i, (w, p_i) in enumerate(zip(weights, p_n)))\n",
    "\n",
    "print(math.exp(math.fsum(s)))"
   ]
  },
  {
   "cell_type": "code",
   "execution_count": 54,
   "metadata": {},
   "outputs": [
    {
     "name": "stderr",
     "output_type": "stream",
     "text": [
      "/mnt/c/ubuntu-bash/filipineu/venv/lib/python3.5/site-packages/nltk/translate/bleu_score.py:490: UserWarning: \n",
      "Corpus/Sentence contains 0 counts of 3-gram overlaps.\n",
      "BLEU scores might be undesirable; use SmoothingFunction().\n",
      "  warnings.warn(_msg)\n"
     ]
    },
    {
     "data": {
      "text/plain": [
       "0.051233175968410725"
      ]
     },
     "execution_count": 54,
     "metadata": {},
     "output_type": "execute_result"
    }
   ],
   "source": [
    "from nltk.translate.bleu_score import corpus_bleu\n",
    "\n",
    "corpus_bleu(references, hypotheses)"
   ]
  }
 ],
 "metadata": {
  "kernelspec": {
   "display_name": "Python 3",
   "language": "python",
   "name": "python3"
  },
  "language_info": {
   "codemirror_mode": {
    "name": "ipython",
    "version": 3
   },
   "file_extension": ".py",
   "mimetype": "text/x-python",
   "name": "python",
   "nbconvert_exporter": "python",
   "pygments_lexer": "ipython3",
   "version": "3.5.2"
  }
 },
 "nbformat": 4,
 "nbformat_minor": 2
}
