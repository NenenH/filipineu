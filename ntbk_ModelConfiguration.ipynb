{
 "cells": [
  {
   "cell_type": "code",
   "execution_count": 1,
   "metadata": {},
   "outputs": [
    {
     "name": "stderr",
     "output_type": "stream",
     "text": [
      "WARNING (theano.tensor.blas): Using NumPy C-API based implementation for BLAS functions.\n"
     ]
    },
    {
     "name": "stdout",
     "output_type": "stream",
     "text": [
      "{'alignment_decay': 0.9999,\n",
      " 'alignment_loss': 0.0,\n",
      " 'alpha': 0.01,\n",
      " 'attention_dims': 256,\n",
      " 'backwards': False,\n",
      " 'beta': 0.4,\n",
      " 'char_embeddings_dropout': 0.0,\n",
      " 'decoder_gate': 'lstm',\n",
      " 'decoder_layernorm': False,\n",
      " 'decoder_state_dims': 512,\n",
      " 'dropout': 0.0,\n",
      " 'embeddings_dropout': 0.0,\n",
      " 'encoder_layernorm': False,\n",
      " 'encoder_state_dims': 256,\n",
      " 'gamma': 1.0,\n",
      " 'layernorm': False,\n",
      " 'len_smooth': 5.0,\n",
      " 'recurrent_dropout': 0.0,\n",
      " 'source_char_embedding_dims': 64,\n",
      " 'source_embedding_dims': 256,\n",
      " 'source_encoder': TextEncoder(10117, TextEncoder(67)),\n",
      " 'source_lowercase': False,\n",
      " 'source_tokenizer': 'word',\n",
      " 'target_embedding_dims': 64,\n",
      " 'target_encoder': TextEncoder(69),\n",
      " 'target_lowercase': False,\n",
      " 'target_tokenizer': 'char',\n",
      " 'tn_epoch': 78,\n",
      " 'ts_train': 397938.45159101486}\n"
     ]
    }
   ],
   "source": [
    "import pickle\n",
    "import pprint\n",
    "\n",
    "from models import fl_en as model\n",
    "\n",
    "pp = pprint.PrettyPrinter(depth=6)\n",
    "pp.pprint(model.config)\n",
    "    "
   ]
  }
 ],
 "metadata": {
  "kernelspec": {
   "display_name": "Python 3",
   "language": "python",
   "name": "python3"
  },
  "language_info": {
   "codemirror_mode": {
    "name": "ipython",
    "version": 3
   },
   "file_extension": ".py",
   "mimetype": "text/x-python",
   "name": "python",
   "nbconvert_exporter": "python",
   "pygments_lexer": "ipython3",
   "version": "3.5.2"
  }
 },
 "nbformat": 4,
 "nbformat_minor": 2
}
