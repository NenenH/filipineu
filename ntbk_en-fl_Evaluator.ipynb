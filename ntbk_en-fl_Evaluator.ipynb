{
 "cells": [
  {
   "cell_type": "code",
   "execution_count": 1,
   "metadata": {},
   "outputs": [],
   "source": [
    "import math\n",
    "\n",
    "from nltk import word_tokenize\n",
    "from nltk.translate.bleu_score import (modified_precision,\n",
    "    closest_ref_length, brevity_penalty, SmoothingFunction, sentence_bleu,\n",
    "    corpus_bleu)\n",
    "from fractions import Fraction\n",
    "from collections import Counter\n",
    "\n",
    "from modules.sentence import (tokenizer, read, detokenize)"
   ]
  },
  {
   "cell_type": "code",
   "execution_count": 2,
   "metadata": {},
   "outputs": [
    {
     "name": "stderr",
     "output_type": "stream",
     "text": [
      "WARNING (theano.tensor.blas): Using NumPy C-API based implementation for BLAS functions.\n"
     ]
    },
    {
     "name": "stdout",
     "output_type": "stream",
     "text": [
      "Expecting: \n",
      "0.044960384523594646\n"
     ]
    },
    {
     "name": "stderr",
     "output_type": "stream",
     "text": [
      "/mnt/c/ubuntu-bash/filipineu/venv/lib/python3.5/site-packages/nltk/translate/bleu_score.py:490: UserWarning: \n",
      "Corpus/Sentence contains 0 counts of 3-gram overlaps.\n",
      "BLEU scores might be undesirable; use SmoothingFunction().\n",
      "  warnings.warn(_msg)\n"
     ]
    }
   ],
   "source": [
    "from models import en_fl\n",
    "model = en_fl\n",
    "\n",
    "REFERENCE_FILE = 'models/en_fl/target.data.eval'\n",
    "HYPOTHESES_FILE = 'models/en_fl/result.data.eval'\n",
    "EVALUATION_FILE = 'models/en_fl/scores.data.eval.csv'\n",
    "\n",
    "references = read(REFERENCE_FILE, word_tokenize, False)\n",
    "hypotheses = read(HYPOTHESES_FILE, word_tokenize, False)\n",
    "\n",
    "print('Expecting: ')\n",
    "print(corpus_bleu(references, hypotheses))"
   ]
  },
  {
   "cell_type": "code",
   "execution_count": 3,
   "metadata": {},
   "outputs": [
    {
     "name": "stderr",
     "output_type": "stream",
     "text": [
      "/mnt/c/ubuntu-bash/filipineu/venv/lib/python3.5/site-packages/nltk/translate/bleu_score.py:490: UserWarning: \n",
      "Corpus/Sentence contains 0 counts of 3-gram overlaps.\n",
      "BLEU scores might be undesirable; use SmoothingFunction().\n",
      "  warnings.warn(_msg)\n",
      "/mnt/c/ubuntu-bash/filipineu/venv/lib/python3.5/site-packages/nltk/translate/bleu_score.py:490: UserWarning: \n",
      "Corpus/Sentence contains 0 counts of 2-gram overlaps.\n",
      "BLEU scores might be undesirable; use SmoothingFunction().\n",
      "  warnings.warn(_msg)\n",
      "/mnt/c/ubuntu-bash/filipineu/venv/lib/python3.5/site-packages/nltk/translate/bleu_score.py:490: UserWarning: \n",
      "Corpus/Sentence contains 0 counts of 4-gram overlaps.\n",
      "BLEU scores might be undesirable; use SmoothingFunction().\n",
      "  warnings.warn(_msg)\n"
     ]
    },
    {
     "name": "stdout",
     "output_type": "stream",
     "text": [
      "Result: \n",
      "0.044960384523594646\n"
     ]
    }
   ],
   "source": [
    "weights = (0.25, 0.25, 0.25, 0.25)\n",
    "\n",
    "nbest = 0\n",
    "p_numerators = Counter()\n",
    "p_denominators = Counter()\n",
    "hyp_lengths, ref_lengths = 0, 0\n",
    "\n",
    "output = open(EVALUATION_FILE, 'w')\n",
    "\n",
    "for reference, hypothesis in zip(references, hypotheses):\n",
    "    hyp_len = len(hypothesis)\n",
    "    ref_len = closest_ref_length(reference, hyp_len)\n",
    "\n",
    "    hyp_lengths += hyp_len\n",
    "    ref_lengths += ref_len\n",
    "\n",
    "    set_data = '%d,%d' % (ref_len, hyp_len)\n",
    "    \n",
    "    for i, _ in enumerate(weights, start=1):\n",
    "        p_i = modified_precision(reference, hypothesis, i)\n",
    "        p_numerators[i] += p_i.numerator\n",
    "        p_denominators[i] += p_i.denominator\n",
    "        set_data += ',%d,%d' % (p_i.numerator, p_i.denominator)\n",
    "\n",
    "    set_data += ',%f' % sentence_bleu([reference], hypothesis)\n",
    "\n",
    "    print(set_data, file=output, flush=True)\n",
    "\n",
    "    bp = brevity_penalty(ref_lengths, hyp_lengths)\n",
    "\n",
    "    p_n = [Fraction(p_numerators[i], p_denominators[i], _normalize=False)\n",
    "            for i, _ in enumerate(weights, start=1)]\n",
    "\n",
    "    smoothing_function = SmoothingFunction().method0\n",
    "\n",
    "    p_n = smoothing_function(p_n, references=references, hypothesis=hypothesis,\n",
    "                                 hyp_len=hyp_len, emulate_multibleu=False)\n",
    "\n",
    "    s = (w * math.log(p_i) for i, (w, p_i) in enumerate(zip(weights, p_n)))\n",
    "\n",
    "print(\"Result: \")\n",
    "print(math.exp(math.fsum(s)))\n",
    "    \n",
    "output.close()"
   ]
  }
 ],
 "metadata": {
  "kernelspec": {
   "display_name": "Python 3",
   "language": "python",
   "name": "python3"
  },
  "language_info": {
   "codemirror_mode": {
    "name": "ipython",
    "version": 3
   },
   "file_extension": ".py",
   "mimetype": "text/x-python",
   "name": "python",
   "nbconvert_exporter": "python",
   "pygments_lexer": "ipython3",
   "version": "3.5.2"
  }
 },
 "nbformat": 4,
 "nbformat_minor": 2
}
